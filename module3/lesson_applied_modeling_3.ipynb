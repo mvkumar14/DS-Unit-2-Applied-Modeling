{
 "cells": [
  {
   "cell_type": "markdown",
   "metadata": {
    "colab_type": "text",
    "id": "8fDZ6RaXmGBK"
   },
   "source": [
    "Lambda School Data Science\n",
    "\n",
    "*Unit 2, Sprint 3, Module 3*\n",
    "\n",
    "---"
   ]
  },
  {
   "cell_type": "markdown",
   "metadata": {
    "colab_type": "text",
    "id": "-hTictxWYih7"
   },
   "source": [
    "# Applied Modeling, Module 3\n",
    "\n",
    "- Visualize and interpret **partial dependence plots**"
   ]
  },
  {
   "cell_type": "markdown",
   "metadata": {
    "colab_type": "text",
    "id": "LoxNYFBXYih9"
   },
   "source": [
    "### Links\n",
    "- [Kaggle / Dan Becker: Machine Learning Explainability — Partial Dependence Plots](https://www.kaggle.com/dansbecker/partial-plots)\n",
    "- [Christoph Molnar: Interpretable Machine Learning — Partial Dependence Plots](https://christophm.github.io/interpretable-ml-book/pdp.html) + [animated explanation](https://twitter.com/ChristophMolnar/status/1066398522608635904)"
   ]
  },
  {
   "cell_type": "markdown",
   "metadata": {
    "colab_type": "text",
    "id": "mDthquUBYiiB"
   },
   "source": [
    "\n",
    "\n",
    "### Three types of model explanations this unit:\n",
    "\n",
    "#### 1. Global model explanation: all features in relation to each other _(Yesterday)_\n",
    "- Feature Importances: _Default, fastest, good for first estimates_\n",
    "- Drop-Column Importances: _The best in theory, but much too slow in practice_\n",
    "- Permutaton Importances: _A good compromise!_\n",
    "\n",
    "#### 2. Global model explanation: individual feature(s) in relation to target _(Today)_\n",
    "- Partial Dependence plots\n",
    "\n",
    "#### 3. Individual prediction explanation _(Tomorrow)_\n",
    "- Shapley Values\n",
    "\n",
    "_Note that the coefficients from a linear model give you all three types of explanations!_"
   ]
  },
  {
   "cell_type": "markdown",
   "metadata": {
    "colab_type": "text",
    "id": "MMt1ghi8_1X4"
   },
   "source": [
    "### Setup\n",
    "\n",
    "Run the code cell below. You can work locally (follow the [local setup instructions](https://lambdaschool.github.io/ds/unit2/local/)) or on Colab.\n",
    "\n",
    "Libraries:\n",
    "\n",
    "- category_encoders\n",
    "- matplotlib\n",
    "- numpy\n",
    "- pandas\n",
    "- [**pdpbox**](https://github.com/SauceCat/PDPbox) (`conda install -c conda-forge pdpbox`)\n",
    "- plotly\n",
    "- seaborn\n",
    "- scikit-learn\n",
    "- xgboost"
   ]
  },
  {
   "cell_type": "code",
   "execution_count": 63,
   "metadata": {
    "colab": {},
    "colab_type": "code",
    "id": "dPcY3kPZ_2em"
   },
   "outputs": [],
   "source": [
    "%%capture\n",
    "import sys\n",
    "\n",
    "# If you're on Colab:\n",
    "if 'google.colab' in sys.modules:\n",
    "    DATA_PATH = 'https://raw.githubusercontent.com/LambdaSchool/DS-Unit-2-Applied-Modeling/master/data/'\n",
    "    !pip install category_encoders==2.*\n",
    "    !pip install pdpbox\n",
    "\n",
    "# If you're working locally:\n",
    "else:\n",
    "    DATA_PATH = '../data/'"
   ]
  },
  {
   "cell_type": "code",
   "execution_count": 64,
   "metadata": {
    "colab": {},
    "colab_type": "code",
    "id": "WTdq6HMGolY8"
   },
   "outputs": [],
   "source": [
    "# Ignore this warning: https://github.com/dmlc/xgboost/issues/4300\n",
    "# xgboost/core.py:587: FutureWarning: Series.base is deprecated and will be removed in a future version\n",
    "import warnings\n",
    "warnings.filterwarnings(action='ignore', category=FutureWarning, module='xgboost')"
   ]
  },
  {
   "cell_type": "markdown",
   "metadata": {
    "colab_type": "text",
    "id": "acFiA1u7un9B"
   },
   "source": [
    "## Lending Club: Predict interest rate"
   ]
  },
  {
   "cell_type": "code",
   "execution_count": 65,
   "metadata": {
    "colab": {},
    "colab_type": "code",
    "id": "ItMkFUNABo9Y"
   },
   "outputs": [],
   "source": [
    "import pandas as pd\n",
    "\n",
    "# Stratified sample, 10% of expired Lending Club loans, grades A-D\n",
    "# Source: https://www.lendingclub.com/info/download-data.action\n",
    "history = pd.read_csv(DATA_PATH+'lending-club/lending-club-subset.csv')\n",
    "history['issue_d'] = pd.to_datetime(history['issue_d'], infer_datetime_format=True)\n",
    "\n",
    "# Just use 36 month loans\n",
    "history = history[history.term==' 36 months']\n",
    "\n",
    "# Index & sort by issue date\n",
    "history = history.set_index('issue_d').sort_index()\n",
    "\n",
    "# Clean data, engineer feature, & select subset of features\n",
    "history = history.rename(columns=                     \n",
    "    {'annual_inc': 'Annual Income', \n",
    "     'fico_range_high': 'Credit Score', \n",
    "     'funded_amnt': 'Loan Amount', \n",
    "     'title': 'Loan Purpose'})\n",
    "\n",
    "history['Interest Rate'] = history['int_rate'].str.strip('%').astype(float)\n",
    "history['Monthly Debts'] = history['Annual Income'] / 12 * history['dti'] / 100\n",
    "\n",
    "columns = ['Annual Income', \n",
    "           'Credit Score', \n",
    "           'Loan Amount', \n",
    "           'Loan Purpose', \n",
    "           'Monthly Debts', \n",
    "           'Interest Rate']\n",
    "\n",
    "history = history[columns]\n",
    "history = history.dropna()\n",
    "\n",
    "# Test on the last 10,000 loans,\n",
    "# Validate on the 10,000 before that,\n",
    "# Train on the rest\n",
    "test = history[-10000:]\n",
    "val = history[-20000:-10000]\n",
    "train = history[:-20000]"
   ]
  },
  {
   "cell_type": "code",
   "execution_count": 66,
   "metadata": {
    "colab": {},
    "colab_type": "code",
    "id": "c-JM8xXECmV0"
   },
   "outputs": [],
   "source": [
    "# Assign to X, y\n",
    "target = 'Interest Rate'\n",
    "features = history.columns.drop('Interest Rate')\n",
    "\n",
    "X_train = train[features]\n",
    "y_train = train[target]\n",
    "\n",
    "X_val = val[features]\n",
    "y_val = val[target]\n",
    "\n",
    "X_test = test[features]\n",
    "y_test = test[target]"
   ]
  },
  {
   "cell_type": "code",
   "execution_count": 67,
   "metadata": {
    "colab": {
     "base_uri": "https://localhost:8080/",
     "height": 283
    },
    "colab_type": "code",
    "id": "rv9XP3-iMPDW",
    "outputId": "098c719c-4493-4ab5-9f20-e22b2e41e7dd"
   },
   "outputs": [
    {
     "data": {
      "image/png": "[encoded data removed]",
      "text/plain": [
       "<Figure size 432x288 with 1 Axes>"
      ]
     },
     "metadata": {
      "needs_background": "light"
     },
     "output_type": "display_data"
    }
   ],
   "source": [
    "# The target has some right skew, but it's not too bad\n",
    "%matplotlib inline\n",
    "import seaborn as sns\n",
    "sns.distplot(y_train);"
   ]
  },
  {
   "cell_type": "markdown",
   "metadata": {
    "colab_type": "text",
    "id": "5kaaMlMwqn4O"
   },
   "source": [
    "### Fit Linear Regression model"
   ]
  },
  {
   "cell_type": "code",
   "execution_count": 68,
   "metadata": {
    "colab": {
     "base_uri": "https://localhost:8080/",
     "height": 34
    },
    "colab_type": "code",
    "id": "7sym2GJ3Ndh2",
    "outputId": "34319f8a-9b2b-4694-fdd4-cd25300cc55d"
   },
   "outputs": [
    {
     "name": "stdout",
     "output_type": "stream",
     "text": [
      "Linear Regression R^2 0.22422462337803703\n"
     ]
    }
   ],
   "source": [
    "import category_encoders as ce\n",
    "from sklearn.linear_model import LinearRegression\n",
    "from sklearn.pipeline import make_pipeline\n",
    "from sklearn.preprocessing import StandardScaler\n",
    "\n",
    "lr = make_pipeline(\n",
    "    ce.TargetEncoder(),  \n",
    "    StandardScaler(), \n",
    "    LinearRegression()\n",
    ")\n",
    "\n",
    "lr.fit(X_train, y_train)\n",
    "print('Linear Regression R^2', lr.score(X_val, y_val))"
   ]
  },
  {
   "cell_type": "markdown",
   "metadata": {
    "colab_type": "text",
    "id": "ex2xIb6Gq0LD"
   },
   "source": [
    "### Fit Gradient Boosting model"
   ]
  },
  {
   "cell_type": "code",
   "execution_count": 69,
   "metadata": {
    "colab": {
     "base_uri": "https://localhost:8080/",
     "height": 34
    },
    "colab_type": "code",
    "id": "IErTkZa3CWT4",
    "outputId": "496c143b-9aa5-406e-b3ec-f100deac1158"
   },
   "outputs": [
    {
     "name": "stdout",
     "output_type": "stream",
     "text": [
      "Gradient Boosting R^2 0.27488377264062747\n"
     ]
    }
   ],
   "source": [
    "from sklearn.metrics import r2_score\n",
    "from xgboost import XGBRegressor\n",
    "\n",
    "gb = make_pipeline(\n",
    "    ce.OrdinalEncoder(), \n",
    "    XGBRegressor(n_estimators=200, objective='reg:squarederror', n_jobs=-1)\n",
    ")\n",
    "\n",
    "gb.fit(X_train, y_train)\n",
    "y_pred = gb.predict(X_val)\n",
    "print('Gradient Boosting R^2', r2_score(y_val, y_pred))"
   ]
  },
  {
   "cell_type": "markdown",
   "metadata": {
    "colab_type": "text",
    "id": "F_FV6mxql0Qt"
   },
   "source": [
    "### Explaining Linear Regression"
   ]
  },
  {
   "cell_type": "code",
   "execution_count": 70,
   "metadata": {
    "colab": {
     "base_uri": "https://localhost:8080/",
     "height": 106
    },
    "colab_type": "code",
    "id": "KYolPjVZkkFA",
    "outputId": "5632d3a8-e43c-4566-9e26-aded516fb7e1"
   },
   "outputs": [
    {
     "data": {
      "text/html": [
       "<div>\n",
       "<style scoped>\n",
       "    .dataframe tbody tr th:only-of-type {\n",
       "        vertical-align: middle;\n",
       "    }\n",
       "\n",
       "    .dataframe tbody tr th {\n",
       "        vertical-align: top;\n",
       "    }\n",
       "\n",
       "    .dataframe thead th {\n",
       "        text-align: right;\n",
       "    }\n",
       "</style>\n",
       "<table border=\"1\" class=\"dataframe\">\n",
       "  <thead>\n",
       "    <tr style=\"text-align: right;\">\n",
       "      <th></th>\n",
       "      <th>Annual Income</th>\n",
       "      <th>Credit Score</th>\n",
       "      <th>Loan Amount</th>\n",
       "      <th>Loan Purpose</th>\n",
       "      <th>Monthly Debts</th>\n",
       "    </tr>\n",
       "    <tr>\n",
       "      <th>issue_d</th>\n",
       "      <th></th>\n",
       "      <th></th>\n",
       "      <th></th>\n",
       "      <th></th>\n",
       "      <th></th>\n",
       "    </tr>\n",
       "  </thead>\n",
       "  <tbody>\n",
       "    <tr>\n",
       "      <th>2016-12-01</th>\n",
       "      <td>68700.0</td>\n",
       "      <td>729.0</td>\n",
       "      <td>7150.0</td>\n",
       "      <td>Credit card refinancing</td>\n",
       "      <td>1452.4325</td>\n",
       "    </tr>\n",
       "  </tbody>\n",
       "</table>\n",
       "</div>"
      ],
      "text/plain": [
       "            Annual Income  Credit Score  Loan Amount             Loan Purpose  \\\n",
       "issue_d                                                                         \n",
       "2016-12-01        68700.0         729.0       7150.0  Credit card refinancing   \n",
       "\n",
       "            Monthly Debts  \n",
       "issue_d                    \n",
       "2016-12-01      1452.4325  "
      ]
     },
     "execution_count": 70,
     "metadata": {},
     "output_type": "execute_result"
    }
   ],
   "source": [
    "example = X_val.iloc[[0]]\n",
    "example"
   ]
  },
  {
   "cell_type": "code",
   "execution_count": 71,
   "metadata": {
    "colab": {
     "base_uri": "https://localhost:8080/",
     "height": 34
    },
    "colab_type": "code",
    "id": "cIHdK65GnNDJ",
    "outputId": "ef4e0382-ed76-4887-bb23-bc45915fdd64"
   },
   "outputs": [
    {
     "name": "stdout",
     "output_type": "stream",
     "text": [
      "Predicted Interest Rate: 8.65%\n"
     ]
    }
   ],
   "source": [
    "pred = lr.predict(example)[0]\n",
    "print(f'Predicted Interest Rate: {pred:.2f}%')"
   ]
  },
  {
   "cell_type": "code",
   "execution_count": 72,
   "metadata": {
    "colab": {
     "base_uri": "https://localhost:8080/",
     "height": 857
    },
    "colab_type": "code",
    "id": "ldbtKx0SlsVW",
    "outputId": "9d525eb9-ebe6-4a82-d83c-614f772d76dd",
    "scrolled": true
   },
   "outputs": [],
   "source": [
    "import numpy as np\n",
    "\n",
    "def vary_income(model, example):\n",
    "    print('Vary income, hold other features constant', '\\n')\n",
    "    example = example.copy()\n",
    "    preds = []\n",
    "    for income in range(20000, 200000, 20000):\n",
    "        example['Annual Income'] = income\n",
    "        pred = model.predict(example)[0]\n",
    "        print(f'Predicted Interest Rate: {pred:.3f}%')\n",
    "        print(example.to_string(), '\\n')\n",
    "        preds.append(pred)\n",
    "    print('Difference between predictions')\n",
    "    print(np.diff(preds))\n",
    "    #returning x y of the \"derivative\" of the target (change in target)\n",
    "    return list(range(len(preds)-1)),np.diff(preds)\n",
    "        \n"
   ]
  },
  {
   "cell_type": "code",
   "execution_count": 73,
   "metadata": {},
   "outputs": [
    {
     "name": "stdout",
     "output_type": "stream",
     "text": [
      "Vary income, hold other features constant \n",
      "\n",
      "Predicted Interest Rate: 8.811%\n",
      "            Annual Income  Credit Score  Loan Amount             Loan Purpose  Monthly Debts\n",
      "issue_d                                                                                     \n",
      "2016-12-01          20000         729.0       7150.0  Credit card refinancing      1452.4325 \n",
      "\n",
      "Predicted Interest Rate: 8.744%\n",
      "            Annual Income  Credit Score  Loan Amount             Loan Purpose  Monthly Debts\n",
      "issue_d                                                                                     \n",
      "2016-12-01          40000         729.0       7150.0  Credit card refinancing      1452.4325 \n",
      "\n",
      "Predicted Interest Rate: 8.677%\n",
      "            Annual Income  Credit Score  Loan Amount             Loan Purpose  Monthly Debts\n",
      "issue_d                                                                                     \n",
      "2016-12-01          60000         729.0       7150.0  Credit card refinancing      1452.4325 \n",
      "\n",
      "Predicted Interest Rate: 8.610%\n",
      "            Annual Income  Credit Score  Loan Amount             Loan Purpose  Monthly Debts\n",
      "issue_d                                                                                     \n",
      "2016-12-01          80000         729.0       7150.0  Credit card refinancing      1452.4325 \n",
      "\n",
      "Predicted Interest Rate: 8.543%\n",
      "            Annual Income  Credit Score  Loan Amount             Loan Purpose  Monthly Debts\n",
      "issue_d                                                                                     \n",
      "2016-12-01         100000         729.0       7150.0  Credit card refinancing      1452.4325 \n",
      "\n",
      "Predicted Interest Rate: 8.476%\n",
      "            Annual Income  Credit Score  Loan Amount             Loan Purpose  Monthly Debts\n",
      "issue_d                                                                                     \n",
      "2016-12-01         120000         729.0       7150.0  Credit card refinancing      1452.4325 \n",
      "\n",
      "Predicted Interest Rate: 8.409%\n",
      "            Annual Income  Credit Score  Loan Amount             Loan Purpose  Monthly Debts\n",
      "issue_d                                                                                     \n",
      "2016-12-01         140000         729.0       7150.0  Credit card refinancing      1452.4325 \n",
      "\n",
      "Predicted Interest Rate: 8.342%\n",
      "            Annual Income  Credit Score  Loan Amount             Loan Purpose  Monthly Debts\n",
      "issue_d                                                                                     \n",
      "2016-12-01         160000         729.0       7150.0  Credit card refinancing      1452.4325 \n",
      "\n",
      "Predicted Interest Rate: 8.275%\n",
      "            Annual Income  Credit Score  Loan Amount             Loan Purpose  Monthly Debts\n",
      "issue_d                                                                                     \n",
      "2016-12-01         180000         729.0       7150.0  Credit card refinancing      1452.4325 \n",
      "\n",
      "Difference between predictions\n",
      "[-0.06704321 -0.06704321 -0.06704321 -0.06704321 -0.06704321 -0.06704321\n",
      " -0.06704321 -0.06704321]\n"
     ]
    },
    {
     "data": {
      "text/plain": [
       "[<matplotlib.lines.Line2D at 0x28a1b2fa7c8>]"
      ]
     },
     "execution_count": 73,
     "metadata": {},
     "output_type": "execute_result"
    },
    {
     "data": {
      "image/png": "[encoded data removed]",
      "text/plain": [
       "<Figure size 432x288 with 1 Axes>"
      ]
     },
     "metadata": {
      "needs_background": "light"
     },
     "output_type": "display_data"
    }
   ],
   "source": [
    "import matplotlib.pyplot as plt\n",
    "\n",
    "x,y = vary_income(lr, example)\n",
    "plt.plot(x,y)"
   ]
  },
  {
   "cell_type": "code",
   "execution_count": 74,
   "metadata": {},
   "outputs": [
    {
     "data": {
      "text/plain": [
       "array([-0.26623609, -1.66948661,  0.14413277,  0.90204413, -0.01483371])"
      ]
     },
     "execution_count": 74,
     "metadata": {},
     "output_type": "execute_result"
    }
   ],
   "source": [
    "#If you get rid of the scaler, and then look at the coefficients\n",
    "#the annual income *20000 = the difference between predictions\n",
    "lr.named_steps['linearregression'].coef_"
   ]
  },
  {
   "cell_type": "code",
   "execution_count": 75,
   "metadata": {
    "colab": {
     "base_uri": "https://localhost:8080/",
     "height": 857
    },
    "colab_type": "code",
    "id": "gTUldxpImI2h",
    "outputId": "e0545f78-7318-4874-9151-98466e2afd57"
   },
   "outputs": [
    {
     "name": "stdout",
     "output_type": "stream",
     "text": [
      "Vary income, hold other features constant \n",
      "\n",
      "Predicted Interest Rate: 11.231%\n",
      "            Annual Income  Credit Score  Loan Amount             Loan Purpose  Monthly Debts\n",
      "issue_d                                                                                     \n",
      "2016-12-01          20000         684.0       9900.0  Credit card refinancing    1600.958333 \n",
      "\n",
      "Predicted Interest Rate: 11.164%\n",
      "            Annual Income  Credit Score  Loan Amount             Loan Purpose  Monthly Debts\n",
      "issue_d                                                                                     \n",
      "2016-12-01          40000         684.0       9900.0  Credit card refinancing    1600.958333 \n",
      "\n",
      "Predicted Interest Rate: 11.097%\n",
      "            Annual Income  Credit Score  Loan Amount             Loan Purpose  Monthly Debts\n",
      "issue_d                                                                                     \n",
      "2016-12-01          60000         684.0       9900.0  Credit card refinancing    1600.958333 \n",
      "\n",
      "Predicted Interest Rate: 11.030%\n",
      "            Annual Income  Credit Score  Loan Amount             Loan Purpose  Monthly Debts\n",
      "issue_d                                                                                     \n",
      "2016-12-01          80000         684.0       9900.0  Credit card refinancing    1600.958333 \n",
      "\n",
      "Predicted Interest Rate: 10.963%\n",
      "            Annual Income  Credit Score  Loan Amount             Loan Purpose  Monthly Debts\n",
      "issue_d                                                                                     \n",
      "2016-12-01         100000         684.0       9900.0  Credit card refinancing    1600.958333 \n",
      "\n",
      "Predicted Interest Rate: 10.896%\n",
      "            Annual Income  Credit Score  Loan Amount             Loan Purpose  Monthly Debts\n",
      "issue_d                                                                                     \n",
      "2016-12-01         120000         684.0       9900.0  Credit card refinancing    1600.958333 \n",
      "\n",
      "Predicted Interest Rate: 10.829%\n",
      "            Annual Income  Credit Score  Loan Amount             Loan Purpose  Monthly Debts\n",
      "issue_d                                                                                     \n",
      "2016-12-01         140000         684.0       9900.0  Credit card refinancing    1600.958333 \n",
      "\n",
      "Predicted Interest Rate: 10.762%\n",
      "            Annual Income  Credit Score  Loan Amount             Loan Purpose  Monthly Debts\n",
      "issue_d                                                                                     \n",
      "2016-12-01         160000         684.0       9900.0  Credit card refinancing    1600.958333 \n",
      "\n",
      "Predicted Interest Rate: 10.695%\n",
      "            Annual Income  Credit Score  Loan Amount             Loan Purpose  Monthly Debts\n",
      "issue_d                                                                                     \n",
      "2016-12-01         180000         684.0       9900.0  Credit card refinancing    1600.958333 \n",
      "\n",
      "Difference between predictions\n",
      "[-0.06704321 -0.06704321 -0.06704321 -0.06704321 -0.06704321 -0.06704321\n",
      " -0.06704321 -0.06704321]\n"
     ]
    },
    {
     "data": {
      "text/plain": [
       "([0, 1, 2, 3, 4, 5, 6, 7],\n",
       " array([-0.06704321, -0.06704321, -0.06704321, -0.06704321, -0.06704321,\n",
       "        -0.06704321, -0.06704321, -0.06704321]))"
      ]
     },
     "execution_count": 75,
     "metadata": {},
     "output_type": "execute_result"
    }
   ],
   "source": [
    "example2 = X_val.iloc[[2]]\n",
    "vary_income(lr, example2)"
   ]
  },
  {
   "cell_type": "markdown",
   "metadata": {},
   "source": [
    "The thing is that we actually don't expect a linear relationship in real life. A difference in income from 20-40k is going to make a larger difference than from 160-180k. The problem with linear models is that the coefficient of a variable is not dependent on the other variables, or the value of the variable itself. Linear regression is very simple, it assumes the same pattern for a specific variable throughout the space that you are trying to model. Sometimes this is a good enough of a prediction, when you have variables that are truly indipendent, or the difference is small enough that guessing with a linear regresson is good enough\n",
    "\n",
    "The derivative is a horizontal line (the slope is not changing)"
   ]
  },
  {
   "cell_type": "markdown",
   "metadata": {
    "colab_type": "text",
    "id": "ubzQ-47YtdSD"
   },
   "source": [
    "### Explaining Gradient Boosting???"
   ]
  },
  {
   "cell_type": "code",
   "execution_count": 76,
   "metadata": {
    "colab": {
     "base_uri": "https://localhost:8080/",
     "height": 857
    },
    "colab_type": "code",
    "id": "V77CAqUytaD5",
    "outputId": "b2547d7e-8f2c-402d-bb47-50800e319753"
   },
   "outputs": [
    {
     "name": "stdout",
     "output_type": "stream",
     "text": [
      "Vary income, hold other features constant \n",
      "\n",
      "Predicted Interest Rate: 10.264%\n",
      "            Annual Income  Credit Score  Loan Amount             Loan Purpose  Monthly Debts\n",
      "issue_d                                                                                     \n",
      "2016-12-01          20000         729.0       7150.0  Credit card refinancing      1452.4325 \n",
      "\n",
      "Predicted Interest Rate: 10.928%\n",
      "            Annual Income  Credit Score  Loan Amount             Loan Purpose  Monthly Debts\n",
      "issue_d                                                                                     \n",
      "2016-12-01          40000         729.0       7150.0  Credit card refinancing      1452.4325 \n",
      "\n",
      "Predicted Interest Rate: 9.037%\n",
      "            Annual Income  Credit Score  Loan Amount             Loan Purpose  Monthly Debts\n",
      "issue_d                                                                                     \n",
      "2016-12-01          60000         729.0       7150.0  Credit card refinancing      1452.4325 \n",
      "\n",
      "Predicted Interest Rate: 7.987%\n",
      "            Annual Income  Credit Score  Loan Amount             Loan Purpose  Monthly Debts\n",
      "issue_d                                                                                     \n",
      "2016-12-01          80000         729.0       7150.0  Credit card refinancing      1452.4325 \n",
      "\n",
      "Predicted Interest Rate: 7.634%\n",
      "            Annual Income  Credit Score  Loan Amount             Loan Purpose  Monthly Debts\n",
      "issue_d                                                                                     \n",
      "2016-12-01         100000         729.0       7150.0  Credit card refinancing      1452.4325 \n",
      "\n",
      "Predicted Interest Rate: 7.503%\n",
      "            Annual Income  Credit Score  Loan Amount             Loan Purpose  Monthly Debts\n",
      "issue_d                                                                                     \n",
      "2016-12-01         120000         729.0       7150.0  Credit card refinancing      1452.4325 \n",
      "\n",
      "Predicted Interest Rate: 7.402%\n",
      "            Annual Income  Credit Score  Loan Amount             Loan Purpose  Monthly Debts\n",
      "issue_d                                                                                     \n",
      "2016-12-01         140000         729.0       7150.0  Credit card refinancing      1452.4325 \n",
      "\n",
      "Predicted Interest Rate: 7.402%\n",
      "            Annual Income  Credit Score  Loan Amount             Loan Purpose  Monthly Debts\n",
      "issue_d                                                                                     \n",
      "2016-12-01         160000         729.0       7150.0  Credit card refinancing      1452.4325 \n",
      "\n",
      "Predicted Interest Rate: 7.402%\n",
      "            Annual Income  Credit Score  Loan Amount             Loan Purpose  Monthly Debts\n",
      "issue_d                                                                                     \n",
      "2016-12-01         180000         729.0       7150.0  Credit card refinancing      1452.4325 \n",
      "\n",
      "Difference between predictions\n",
      "[ 0.6639528  -1.890399   -1.049963   -0.3534522  -0.13033581 -0.1011548\n",
      "  0.          0.        ]\n"
     ]
    },
    {
     "data": {
      "text/plain": [
       "[<matplotlib.lines.Line2D at 0x28a1d7a8188>]"
      ]
     },
     "execution_count": 76,
     "metadata": {},
     "output_type": "execute_result"
    },
    {
     "data": {
      "image/png": "[encoded data removed]",
      "text/plain": [
       "<Figure size 432x288 with 1 Axes>"
      ]
     },
     "metadata": {
      "needs_background": "light"
     },
     "output_type": "display_data"
    }
   ],
   "source": [
    "x,y = vary_income(gb, example)\n",
    "plt.plot(x,y)"
   ]
  },
  {
   "cell_type": "code",
   "execution_count": 77,
   "metadata": {
    "colab": {
     "base_uri": "https://localhost:8080/",
     "height": 857
    },
    "colab_type": "code",
    "id": "L8Rb54SwtmQ8",
    "outputId": "ed36784f-0485-440f-837a-e4e6d0060779"
   },
   "outputs": [
    {
     "name": "stdout",
     "output_type": "stream",
     "text": [
      "Vary income, hold other features constant \n",
      "\n",
      "Predicted Interest Rate: 12.600%\n",
      "            Annual Income  Credit Score  Loan Amount             Loan Purpose  Monthly Debts\n",
      "issue_d                                                                                     \n",
      "2016-12-01          20000         684.0       9900.0  Credit card refinancing    1600.958333 \n",
      "\n",
      "Predicted Interest Rate: 13.156%\n",
      "            Annual Income  Credit Score  Loan Amount             Loan Purpose  Monthly Debts\n",
      "issue_d                                                                                     \n",
      "2016-12-01          40000         684.0       9900.0  Credit card refinancing    1600.958333 \n",
      "\n",
      "Predicted Interest Rate: 11.596%\n",
      "            Annual Income  Credit Score  Loan Amount             Loan Purpose  Monthly Debts\n",
      "issue_d                                                                                     \n",
      "2016-12-01          60000         684.0       9900.0  Credit card refinancing    1600.958333 \n",
      "\n",
      "Predicted Interest Rate: 10.810%\n",
      "            Annual Income  Credit Score  Loan Amount             Loan Purpose  Monthly Debts\n",
      "issue_d                                                                                     \n",
      "2016-12-01          80000         684.0       9900.0  Credit card refinancing    1600.958333 \n",
      "\n",
      "Predicted Interest Rate: 10.570%\n",
      "            Annual Income  Credit Score  Loan Amount             Loan Purpose  Monthly Debts\n",
      "issue_d                                                                                     \n",
      "2016-12-01         100000         684.0       9900.0  Credit card refinancing    1600.958333 \n",
      "\n",
      "Predicted Interest Rate: 10.439%\n",
      "            Annual Income  Credit Score  Loan Amount             Loan Purpose  Monthly Debts\n",
      "issue_d                                                                                     \n",
      "2016-12-01         120000         684.0       9900.0  Credit card refinancing    1600.958333 \n",
      "\n",
      "Predicted Interest Rate: 10.338%\n",
      "            Annual Income  Credit Score  Loan Amount             Loan Purpose  Monthly Debts\n",
      "issue_d                                                                                     \n",
      "2016-12-01         140000         684.0       9900.0  Credit card refinancing    1600.958333 \n",
      "\n",
      "Predicted Interest Rate: 10.338%\n",
      "            Annual Income  Credit Score  Loan Amount             Loan Purpose  Monthly Debts\n",
      "issue_d                                                                                     \n",
      "2016-12-01         160000         684.0       9900.0  Credit card refinancing    1600.958333 \n",
      "\n",
      "Predicted Interest Rate: 10.338%\n",
      "            Annual Income  Credit Score  Loan Amount             Loan Purpose  Monthly Debts\n",
      "issue_d                                                                                     \n",
      "2016-12-01         180000         684.0       9900.0  Credit card refinancing    1600.958333 \n",
      "\n",
      "Difference between predictions\n",
      "[ 0.55585766 -1.5592022  -0.78670025 -0.24003029 -0.13033485 -0.10115719\n",
      "  0.          0.        ]\n"
     ]
    },
    {
     "data": {
      "text/plain": [
       "[<matplotlib.lines.Line2D at 0x28a1caf6308>]"
      ]
     },
     "execution_count": 77,
     "metadata": {},
     "output_type": "execute_result"
    },
    {
     "data": {
      "image/png": "[encoded data removed]",
      "text/plain": [
       "<Figure size 432x288 with 1 Axes>"
      ]
     },
     "metadata": {
      "needs_background": "light"
     },
     "output_type": "display_data"
    }
   ],
   "source": [
    "x,y = vary_income(gb, example2)\n",
    "plt.plot(x,y)"
   ]
  },
  {
   "cell_type": "code",
   "execution_count": null,
   "metadata": {},
   "outputs": [],
   "source": []
  },
  {
   "cell_type": "markdown",
   "metadata": {
    "colab_type": "text",
    "id": "pIPNg2Wsm2ex"
   },
   "source": [
    "## Partial Dependence Plots"
   ]
  },
  {
   "cell_type": "markdown",
   "metadata": {
    "colab_type": "text",
    "id": "5O6s9jisYijI"
   },
   "source": [
    "From [PDPbox documentation](https://pdpbox.readthedocs.io/en/latest/):\n",
    "\n",
    "\n",
    ">**The common headache**: When using black box machine learning algorithms like random forest and boosting, it is hard to understand the relations between predictors and model outcome. For example, in terms of random forest, all we get is the feature importance. Although we can know which feature is significantly influencing the outcome based on the importance calculation, it really sucks that we don’t know in which direction it is influencing. And in most of the real cases, the effect is non-monotonic. We need some powerful tools to help understanding the complex relations between predictors and model prediction."
   ]
  },
  {
   "cell_type": "markdown",
   "metadata": {
    "colab_type": "text",
    "id": "zN2C8QTMYijI"
   },
   "source": [
    "[Animation by Christoph Molnar](https://twitter.com/ChristophMolnar/status/1066398522608635904), author of [_Interpretable Machine Learning_](https://christophm.github.io/interpretable-ml-book/pdp.html#examples)\n",
    "\n",
    "> Partial dependence plots show how a feature affects predictions of a Machine Learning model on average.\n",
    "> 1. Define grid along feature\n",
    "> 2. Model predictions at grid points\n",
    "> 3. Line per data instance -> ICE (Individual Conditional Expectation) curve\n",
    "> 4. Average curves to get a PDP (Partial Dependence Plot)"
   ]
  },
  {
   "cell_type": "code",
   "execution_count": 78,
   "metadata": {
    "colab": {
     "base_uri": "https://localhost:8080/",
     "height": 295
    },
    "colab_type": "code",
    "id": "DAP9c1-9vQll",
    "outputId": "ea0651a5-22c5-4c8d-b233-f2ece6d355dd"
   },
   "outputs": [
    {
     "data": {
      "image/png": "[encoded data removed]",
      "text/plain": [
       "<Figure size 432x288 with 1 Axes>"
      ]
     },
     "metadata": {
      "needs_background": "light"
     },
     "output_type": "display_data"
    }
   ],
   "source": [
    "%matplotlib inline\n",
    "import matplotlib.pyplot as plt\n",
    "\n",
    "examples = pd.concat([example, example2])\n",
    "for income in range(20000, 200000, 20000):\n",
    "    examples['Annual Income'] = income\n",
    "    preds = gb.predict(examples)\n",
    "    for pred in preds:\n",
    "        plt.scatter(income, pred, color='grey')\n",
    "    plt.scatter(income, np.mean(preds), color='red')\n",
    "    plt.title('Partial Dependence')\n",
    "    plt.xlabel('Income')\n",
    "    plt.ylabel('Interest Rate')"
   ]
  },
  {
   "cell_type": "markdown",
   "metadata": {
    "colab_type": "text",
    "id": "QOUzbLKpYijB"
   },
   "source": [
    "## Partial Dependence Plots with 1 feature\n",
    "\n",
    "#### PDPbox\n",
    "- [Gallery](https://github.com/SauceCat/PDPbox#gallery)\n",
    "- [API Reference: pdp_isolate](https://pdpbox.readthedocs.io/en/latest/pdp_isolate.html)\n",
    "- [API Reference: pdp_plot](https://pdpbox.readthedocs.io/en/latest/pdp_plot.html)"
   ]
  },
  {
   "cell_type": "code",
   "execution_count": 79,
   "metadata": {
    "colab": {},
    "colab_type": "code",
    "id": "2YPeL9n9ZBG3"
   },
   "outputs": [],
   "source": [
    "# Later, when you save matplotlib images to include in blog posts or web apps,\n",
    "# increase the dots per inch (double it), so the text isn't so fuzzy\n",
    "import matplotlib.pyplot as plt\n",
    "plt.rcParams['figure.dpi'] = 72"
   ]
  },
  {
   "cell_type": "code",
   "execution_count": 80,
   "metadata": {
    "colab": {
     "base_uri": "https://localhost:8080/",
     "height": 582
    },
    "colab_type": "code",
    "id": "cegKbw4B43lG",
    "outputId": "25364ab9-cd10-4352-b6f1-f7d474fc933a"
   },
   "outputs": [
    {
     "data": {
      "text/plain": [
       "(<Figure size 1080x684 with 2 Axes>,\n",
       " {'title_ax': <matplotlib.axes._subplots.AxesSubplot at 0x28a1252f188>,\n",
       "  'pdp_ax': <matplotlib.axes._subplots.AxesSubplot at 0x28a09cb5f48>})"
      ]
     },
     "execution_count": 80,
     "metadata": {},
     "output_type": "execute_result"
    },
    {
     "data": {
      "image/png": "[encoded data removed]",
      "text/plain": [
       "<Figure size 1080x684 with 2 Axes>"
      ]
     },
     "metadata": {
      "needs_background": "light"
     },
     "output_type": "display_data"
    }
   ],
   "source": [
    "from pdpbox.pdp import pdp_isolate,pdp_plot\n",
    "feature = 'Annual Income'\n",
    "\n",
    "isolated = pdp_isolate(\n",
    "    model = gb,\n",
    "    dataset = X_val,\n",
    "    model_features = X_val.columns,\n",
    "    feature = feature,\n",
    ")\n",
    "\n",
    "pdp_plot(isolated,feature)"
   ]
  },
  {
   "cell_type": "code",
   "execution_count": 81,
   "metadata": {},
   "outputs": [
    {
     "ename": "SyntaxError",
     "evalue": "positional argument follows keyword argument (<ipython-input-81-aafeb71d53b5>, line 3)",
     "output_type": "error",
     "traceback": [
      "\u001b[1;36m  File \u001b[1;32m\"<ipython-input-81-aafeb71d53b5>\"\u001b[1;36m, line \u001b[1;32m3\u001b[0m\n\u001b[1;33m    datas)\u001b[0m\n\u001b[1;37m          ^\u001b[0m\n\u001b[1;31mSyntaxError\u001b[0m\u001b[1;31m:\u001b[0m positional argument follows keyword argument\n"
     ]
    }
   ],
   "source": [
    "isolated = pdp_isolate(\n",
    "    model = gb,\n",
    "datas)"
   ]
  },
  {
   "cell_type": "markdown",
   "metadata": {
    "colab_type": "text",
    "id": "T7bIBNtfU3cY"
   },
   "source": [
    "#### You can customize it\n",
    "\n",
    "PDPbox\n",
    "- [API Reference: PDPIsolate](https://pdpbox.readthedocs.io/en/latest/PDPIsolate.html)"
   ]
  },
  {
   "cell_type": "code",
   "execution_count": null,
   "metadata": {
    "colab": {
     "base_uri": "https://localhost:8080/",
     "height": 404
    },
    "colab_type": "code",
    "id": "-aDvICqIZcwS",
    "outputId": "f656a89b-6f21-4d95-91ef-d3e9706e14c5"
   },
   "outputs": [],
   "source": [
    "grid  = isolated.feature_grids\n",
    "grid"
   ]
  },
  {
   "cell_type": "code",
   "execution_count": null,
   "metadata": {},
   "outputs": [],
   "source": [
    "pdp = isolated.pdp"
   ]
  },
  {
   "cell_type": "code",
   "execution_count": null,
   "metadata": {},
   "outputs": [],
   "source": [
    "plt.figure(figsize=(10,6))\n",
    "plt.plot(grid,pdp)\n",
    "plt.xlim(1,150000)"
   ]
  },
  {
   "cell_type": "code",
   "execution_count": null,
   "metadata": {},
   "outputs": [],
   "source": [
    "#ice = individual conditional expectation curves.\n",
    "isolated.ice_lines"
   ]
  },
  {
   "cell_type": "markdown",
   "metadata": {
    "colab_type": "text",
    "id": "LOu_hUU6YijJ"
   },
   "source": [
    "## Partial Dependence Plots with 2 features\n",
    "\n",
    "See interactions!\n",
    "\n",
    "PDPbox\n",
    "- [Gallery](https://github.com/SauceCat/PDPbox#gallery)\n",
    "- [API Reference: pdp_interact](https://pdpbox.readthedocs.io/en/latest/pdp_interact.html)\n",
    "- [API Reference: pdp_interact_plot](https://pdpbox.readthedocs.io/en/latest/pdp_interact_plot.html)\n",
    "\n",
    "Be aware of a bug in PDPBox version <= 0.20:\n",
    "- With the `pdp_interact_plot` function, `plot_type='contour'` gets an error, but `plot_type='grid'` works\n",
    "- This will be fixed in the next release of PDPbox: https://github.com/SauceCat/PDPbox/issues/40"
   ]
  },
  {
   "cell_type": "code",
   "execution_count": null,
   "metadata": {
    "colab": {
     "base_uri": "https://localhost:8080/",
     "height": 585
    },
    "colab_type": "code",
    "id": "edL2X3QtYijJ",
    "outputId": "f2365abe-d1db-42b6-fa06-aac4c1f64c59"
   },
   "outputs": [],
   "source": [
    "from pdpbox.pdp import pdp_interact, pdp_interact_plot\n",
    "\n",
    "features = ['Annual Income','Credit Score']\n",
    "\n",
    "interaction = pdp_interact(\n",
    "    model=gb,\n",
    "    dataset= X_val,\n",
    "    model_features=X_val.columns,\n",
    "    features = features\n",
    ")\n",
    "\n",
    "pdp_interact_plot(interaction,plot_type='grid',feature_names=features)"
   ]
  },
  {
   "cell_type": "code",
   "execution_count": null,
   "metadata": {},
   "outputs": [],
   "source": [
    "#Number of predictions requred to make a pdp with 2 features\n",
    "#given the size of your dataset, and the number of grid points,\n",
    "len(X_val) * 10**2\n",
    "#Because every grid is a combination that gets tested ON EVERY SINGLE DATAPOINT\n",
    "#in the validation set.\n",
    "\n",
    "#This problem grows exponentially."
   ]
  },
  {
   "cell_type": "code",
   "execution_count": null,
   "metadata": {},
   "outputs": [],
   "source": [
    "#note that this is in tidy data format\n",
    "interaction.pdp "
   ]
  },
  {
   "cell_type": "code",
   "execution_count": null,
   "metadata": {},
   "outputs": [],
   "source": [
    "pdp =interaction.pdp.pivot_table(\n",
    "    values ='preds',\n",
    "    columns =features[0], # annual income\n",
    "    index = features[1] #credit score\n",
    ")[::-1] #slice notation to reverse index order so y axis is descending\n",
    "\n",
    "plt.figure(figsize=(10,8))\n",
    "sns.heatmap(pdp,annot=True,fmt='.2f')"
   ]
  },
  {
   "cell_type": "markdown",
   "metadata": {
    "colab_type": "text",
    "id": "h0zF-MIh47JK"
   },
   "source": [
    "### 3D with Plotly!"
   ]
  },
  {
   "cell_type": "code",
   "execution_count": null,
   "metadata": {
    "colab": {
     "base_uri": "https://localhost:8080/",
     "height": 542
    },
    "colab_type": "code",
    "id": "TVI9Y93Z0t4B",
    "outputId": "e8a3589c-ac03-4a38-fe73-e837a3240b8d"
   },
   "outputs": [],
   "source": [
    "import plotly.graph_objs as go\n",
    "\n",
    "surface = go.Surface(x = pdp.columns,\n",
    "           y = pdp.index,\n",
    "           z = pdp.values)\n",
    "\n",
    "fig = go.Figure(surface)\n",
    "fig.show()  "
   ]
  },
  {
   "cell_type": "code",
   "execution_count": null,
   "metadata": {},
   "outputs": [],
   "source": [
    "#we can get rid of the higher income values that are skewing the data by dropping the \n",
    "#edge column(s) from the pdp df.\n",
    "pdp.columns"
   ]
  },
  {
   "cell_type": "code",
   "execution_count": null,
   "metadata": {
    "scrolled": true
   },
   "outputs": [],
   "source": [
    "pdp.drop(columns =[751329.0,1000.0])"
   ]
  },
  {
   "cell_type": "code",
   "execution_count": null,
   "metadata": {},
   "outputs": [],
   "source": [
    "surface = go.Surface(x = pdp.columns,\n",
    "           y = pdp.index,\n",
    "           z = pdp.values)\n",
    "\n",
    "fig = go.Figure(surface)\n",
    "fig.show()  "
   ]
  },
  {
   "cell_type": "markdown",
   "metadata": {
    "colab_type": "text",
    "id": "F7GKnVW01bBK"
   },
   "source": [
    "# Partial Dependence Plots with categorical features\n",
    "\n",
    "1. I recommend you use Ordinal Encoder or Target Encoder, outside of a pipeline, to encode your data first. (If there is a natural ordering, then take the time to encode it that way, instead of random integers.) Then use the encoded data with pdpbox.\n",
    "2. There's some extra work to get readable category names on your plot, instead of integer category codes."
   ]
  },
  {
   "cell_type": "code",
   "execution_count": 85,
   "metadata": {
    "colab": {
     "base_uri": "https://localhost:8080/",
     "height": 134
    },
    "colab_type": "code",
    "id": "dKd-dI7Y1LSL",
    "outputId": "c197ba55-b705-404b-d678-dc8df2a096ff"
   },
   "outputs": [
    {
     "data": {
      "text/plain": [
       "RandomForestClassifier(bootstrap=True, class_weight=None, criterion='gini',\n",
       "                       max_depth=None, max_features='auto', max_leaf_nodes=None,\n",
       "                       min_impurity_decrease=0.0, min_impurity_split=None,\n",
       "                       min_samples_leaf=1, min_samples_split=2,\n",
       "                       min_weight_fraction_leaf=0.0, n_estimators=100,\n",
       "                       n_jobs=-1, oob_score=False, random_state=42, verbose=0,\n",
       "                       warm_start=False)"
      ]
     },
     "execution_count": 85,
     "metadata": {},
     "output_type": "execute_result"
    }
   ],
   "source": [
    "# Fit a model on Titanic data\n",
    "import category_encoders as ce\n",
    "import seaborn as sns\n",
    "from sklearn.ensemble import RandomForestClassifier\n",
    "\n",
    "df = sns.load_dataset('titanic')\n",
    "df.age = df.age.fillna(df.age.median())\n",
    "df = df.drop(columns='deck')\n",
    "df = df.dropna()\n",
    "\n",
    "target = 'survived'\n",
    "features = df.columns.drop(['survived', 'alive'])\n",
    "\n",
    "X = df[features]\n",
    "y = df[target]\n",
    "\n",
    "# Use Ordinal Encoder, outside of a pipeline\n",
    "encoder = ce.OrdinalEncoder()\n",
    "X_encoded = encoder.fit_transform(X)\n",
    "\n",
    "model = RandomForestClassifier(n_estimators=100, random_state=42, n_jobs=-1)\n",
    "model.fit(X_encoded, y)"
   ]
  },
  {
   "cell_type": "code",
   "execution_count": 86,
   "metadata": {},
   "outputs": [
    {
     "data": {
      "text/plain": [
       "0      0\n",
       "1      1\n",
       "2      1\n",
       "3      1\n",
       "4      0\n",
       "      ..\n",
       "886    0\n",
       "887    1\n",
       "888    0\n",
       "889    1\n",
       "890    0\n",
       "Name: survived, Length: 889, dtype: int64"
      ]
     },
     "execution_count": 86,
     "metadata": {},
     "output_type": "execute_result"
    }
   ],
   "source": []
  },
  {
   "cell_type": "code",
   "execution_count": 84,
   "metadata": {
    "colab": {
     "base_uri": "https://localhost:8080/",
     "height": 582
    },
    "colab_type": "code",
    "id": "izClfuUV1lSt",
    "outputId": "ec9499a0-5624-4f57-a30d-2e595166e578"
   },
   "outputs": [
    {
     "data": {
      "image/png": "[encoded data removed]",
      "text/plain": [
       "<Figure size 1080x684 with 2 Axes>"
      ]
     },
     "metadata": {
      "needs_background": "light"
     },
     "output_type": "display_data"
    }
   ],
   "source": [
    "# Use Pdpbox\n",
    "%matplotlib inline\n",
    "import matplotlib.pyplot as plt\n",
    "from pdpbox import pdp\n",
    "feature = 'sex'\n",
    "pdp_dist = pdp.pdp_isolate(model=model, dataset=X_encoded, model_features=features, feature=feature)\n",
    "pdp.pdp_plot(pdp_dist, feature);"
   ]
  },
  {
   "cell_type": "code",
   "execution_count": null,
   "metadata": {
    "colab": {
     "base_uri": "https://localhost:8080/",
     "height": 454
    },
    "colab_type": "code",
    "id": "wuQPHCti1opV",
    "outputId": "68819661-d66e-4a15-a12b-5ceb21793098"
   },
   "outputs": [],
   "source": [
    "# Look at the encoder's mappings\n",
    "encoder.mapping"
   ]
  },
  {
   "cell_type": "code",
   "execution_count": null,
   "metadata": {
    "colab": {
     "base_uri": "https://localhost:8080/",
     "height": 582
    },
    "colab_type": "code",
    "id": "x5UVHSuQ1toP",
    "outputId": "f0060aa8-760b-4bc3-e6b5-00fdcd841ad6"
   },
   "outputs": [],
   "source": [
    "pdp.pdp_plot(pdp_dist, feature)\n",
    "\n",
    "# Manually change the xticks labels\n",
    "plt.xticks([1, 2], ['male', 'female']);"
   ]
  },
  {
   "cell_type": "code",
   "execution_count": null,
   "metadata": {
    "colab": {},
    "colab_type": "code",
    "id": "BbaVTJIa104W"
   },
   "outputs": [],
   "source": [
    "# Let's automate it\n",
    "\n",
    "feature = 'sex'\n",
    "for item in encoder.mapping:\n",
    "    if item['col'] == feature:\n",
    "        feature_mapping = item['mapping']\n",
    "        \n",
    "feature_mapping = feature_mapping[feature_mapping.index.dropna()]\n",
    "category_names = feature_mapping.index.tolist()\n",
    "category_codes = feature_mapping.values.tolist()"
   ]
  },
  {
   "cell_type": "code",
   "execution_count": null,
   "metadata": {
    "colab": {
     "base_uri": "https://localhost:8080/",
     "height": 582
    },
    "colab_type": "code",
    "id": "gSSoKtbi14OP",
    "outputId": "b9d1dcf0-d7ed-4311-b3f3-ceabc8befa8e"
   },
   "outputs": [],
   "source": [
    "pdp.pdp_plot(pdp_dist, feature)\n",
    "\n",
    "# Automatically change the xticks labels\n",
    "plt.xticks(category_codes, category_names);"
   ]
  },
  {
   "cell_type": "code",
   "execution_count": null,
   "metadata": {
    "colab": {
     "base_uri": "https://localhost:8080/",
     "height": 585
    },
    "colab_type": "code",
    "id": "I0R4gnZY199a",
    "outputId": "b6b88be0-6d19-447b-80bd-c49d0216355a"
   },
   "outputs": [],
   "source": [
    "features = ['sex', 'age']\n",
    "\n",
    "interaction = pdp_interact(\n",
    "    model=model,  \n",
    "    dataset=X_encoded, \n",
    "    model_features=X_encoded.columns, \n",
    "    features=features\n",
    ")\n",
    "\n",
    "pdp_interact_plot(interaction, plot_type='grid', feature_names=features);"
   ]
  },
  {
   "cell_type": "code",
   "execution_count": null,
   "metadata": {
    "colab": {
     "base_uri": "https://localhost:8080/",
     "height": 513
    },
    "colab_type": "code",
    "id": "vAhHHHO52OJt",
    "outputId": "802abdce-446f-4423-f99c-5b0c8f91a9ce"
   },
   "outputs": [],
   "source": [
    "pdp = interaction.pdp.pivot_table(\n",
    "    values='preds', \n",
    "    columns=features[0], # First feature on x axis\n",
    "    index=features[1]    # Next feature on y axis\n",
    ")[::-1]  # Reverse the index order so y axis is ascending\n",
    "\n",
    "pdp = pdp.rename(columns=dict(zip(category_codes, category_names)))\n",
    "plt.figure(figsize=(10,8))\n",
    "sns.heatmap(pdp, annot=True, fmt='.2f', cmap='viridis')\n",
    "plt.title('Partial Dependence of Titanic survival, on sex & age');"
   ]
  }
 ],
 "metadata": {
  "kernelspec": {
   "display_name": "Python 3",
   "language": "python",
   "name": "python3"
  },
  "language_info": {
   "codemirror_mode": {
    "name": "ipython",
    "version": 3
   },
   "file_extension": ".py",
   "mimetype": "text/x-python",
   "name": "python",
   "nbconvert_exporter": "python",
   "pygments_lexer": "ipython3",
   "version": "3.7.5"
  }
 },
 "nbformat": 4,
 "nbformat_minor": 1
}
